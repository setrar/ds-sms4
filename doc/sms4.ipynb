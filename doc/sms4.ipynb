{
 "cells": [
  {
   "cell_type": "code",
   "execution_count": 20,
   "id": "0aff05ee-9c1d-4c0b-870f-e74bc6013048",
   "metadata": {},
   "outputs": [],
   "source": [
    "from sm4 import SM4Key\n",
    "# key0 = SM4Key(b\"any length16 key\")\n",
    "key0 = SM4Key(b\"pT39tJaYT573714t\")\n",
    "# Using openssl rand -base64 12"
   ]
  },
  {
   "cell_type": "code",
   "execution_count": 22,
   "id": "00d7a144-2204-4026-8e04-8632419de37d",
   "metadata": {},
   "outputs": [
    {
     "data": {
      "text/plain": [
       "b'\\x94\\x0cx\\xab\\xa9\\xd4\\x9d\\x12\\xfdz\\xa5\\x10W\\xe8\\x16@\\xe9\\xe3d\\r\\xb0\\xe0d\\xa0\\xea2$\\xb9Uig-'"
      ]
     },
     "execution_count": 22,
     "metadata": {},
     "output_type": "execute_result"
    }
   ],
   "source": [
    "key0.encrypt(b\"Any very very very long message!\")  \n",
    "# -> b'\\x94\\x0cx\\xab\\xa9\\xd4\\x9d\\x12\\xfdz\\xa5\\x10W\\xe8\\x16@\\xe9\\xe3d\\r\\xb0\\xe0d\\xa0\\xea2$\\xb9Uig-'"
   ]
  },
  {
   "cell_type": "code",
   "execution_count": 23,
   "id": "615923ba-1e94-4acb-a067-ecfd58f8c079",
   "metadata": {},
   "outputs": [
    {
     "data": {
      "text/plain": [
       "b'\\x1c\\xe6\\x99D\\xe7G\\x94>\\x1b@\\x9f\\x85\\x9f%\\xbd\\xc0'"
      ]
     },
     "execution_count": 23,
     "metadata": {},
     "output_type": "execute_result"
    }
   ],
   "source": [
    "key0.encrypt(b\"any long message\", initial=b\"\\0\"*16)        \n",
    "# -> b'\\x1c\\xe6\\x99D\\xe7G\\x94>\\x1b@\\x9f\\x85\\x9f%\\xbd\\xc0'"
   ]
  },
  {
   "cell_type": "code",
   "execution_count": 24,
   "id": "9463cf26-be1b-45e9-874f-f6da2eeb47ba",
   "metadata": {},
   "outputs": [
    {
     "data": {
      "text/plain": [
       "b'\\x00\\xbc\\x11-=@\\xc1\\xe8\\x1c\\xeb\\xf8|7\\xc6\\xc8z'"
      ]
     },
     "execution_count": 24,
     "metadata": {},
     "output_type": "execute_result"
    }
   ],
   "source": [
    "key0.encrypt(b\"abc\", padding=True)  \n",
    "# -> b'K\\x9euZ\\x03\\x96\\xe0\\x93+\\xc9%Z\\xab\\xf5\\xff\\x17'"
   ]
  },
  {
   "cell_type": "code",
   "execution_count": 25,
   "id": "8821399a-30e6-495d-8d5b-d8fb75bf1862",
   "metadata": {},
   "outputs": [
    {
     "data": {
      "text/plain": [
       "b'abc'"
      ]
     },
     "execution_count": 25,
     "metadata": {},
     "output_type": "execute_result"
    }
   ],
   "source": [
    "key0.decrypt(b\"\\x00\\xbc\\x11-=@\\xc1\\xe8\\x1c\\xeb\\xf8|7\\xc6\\xc8z\", padding=True)  \n",
    "# -> b\"abc\""
   ]
  },
  {
   "cell_type": "code",
   "execution_count": null,
   "id": "588d4cad-5b9c-4108-9907-d5122e73f5b9",
   "metadata": {},
   "outputs": [],
   "source": []
  }
 ],
 "metadata": {
  "kernelspec": {
   "display_name": "Python 3 (ipykernel)",
   "language": "python",
   "name": "python3"
  },
  "language_info": {
   "codemirror_mode": {
    "name": "ipython",
    "version": 3
   },
   "file_extension": ".py",
   "mimetype": "text/x-python",
   "name": "python",
   "nbconvert_exporter": "python",
   "pygments_lexer": "ipython3",
   "version": "3.10.13"
  }
 },
 "nbformat": 4,
 "nbformat_minor": 5
}
